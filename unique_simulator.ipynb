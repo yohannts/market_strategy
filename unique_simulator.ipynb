{
 "cells": [
  {
   "cell_type": "code",
   "execution_count": 107,
   "metadata": {},
   "outputs": [],
   "source": [
    "import numpy as np\n",
    "import matplotlib.pyplot as plt\n",
    "import datetime\n",
    "import pandas as pd\n",
    "from pandas.plotting import scatter_matrix"
   ]
  },
  {
   "cell_type": "code",
   "execution_count": 108,
   "metadata": {},
   "outputs": [
    {
     "data": {
      "text/html": [
       "<div>\n",
       "<style scoped>\n",
       "    .dataframe tbody tr th:only-of-type {\n",
       "        vertical-align: middle;\n",
       "    }\n",
       "\n",
       "    .dataframe tbody tr th {\n",
       "        vertical-align: top;\n",
       "    }\n",
       "\n",
       "    .dataframe thead th {\n",
       "        text-align: right;\n",
       "    }\n",
       "</style>\n",
       "<table border=\"1\" class=\"dataframe\">\n",
       "  <thead>\n",
       "    <tr style=\"text-align: right;\">\n",
       "      <th></th>\n",
       "      <th>Low</th>\n",
       "      <th>Open</th>\n",
       "      <th>Volume</th>\n",
       "      <th>High</th>\n",
       "      <th>Close</th>\n",
       "      <th>Adjusted Close</th>\n",
       "      <th>MA50</th>\n",
       "      <th>MA200</th>\n",
       "    </tr>\n",
       "    <tr>\n",
       "      <th>Date</th>\n",
       "      <th></th>\n",
       "      <th></th>\n",
       "      <th></th>\n",
       "      <th></th>\n",
       "      <th></th>\n",
       "      <th></th>\n",
       "      <th></th>\n",
       "      <th></th>\n",
       "    </tr>\n",
       "  </thead>\n",
       "  <tbody>\n",
       "    <tr>\n",
       "      <th>2015-11-11</th>\n",
       "      <td>28.802500</td>\n",
       "      <td>29.092501</td>\n",
       "      <td>180872000</td>\n",
       "      <td>29.355000</td>\n",
       "      <td>29.027500</td>\n",
       "      <td>26.767387</td>\n",
       "      <td>NaN</td>\n",
       "      <td>NaN</td>\n",
       "    </tr>\n",
       "    <tr>\n",
       "      <th>2015-11-12</th>\n",
       "      <td>28.912500</td>\n",
       "      <td>29.065001</td>\n",
       "      <td>130102400</td>\n",
       "      <td>29.205000</td>\n",
       "      <td>28.930000</td>\n",
       "      <td>26.677477</td>\n",
       "      <td>NaN</td>\n",
       "      <td>NaN</td>\n",
       "    </tr>\n",
       "    <tr>\n",
       "      <th>2015-11-13</th>\n",
       "      <td>28.067499</td>\n",
       "      <td>28.799999</td>\n",
       "      <td>183249600</td>\n",
       "      <td>28.892500</td>\n",
       "      <td>28.084999</td>\n",
       "      <td>25.898272</td>\n",
       "      <td>NaN</td>\n",
       "      <td>NaN</td>\n",
       "    </tr>\n",
       "    <tr>\n",
       "      <th>2015-11-16</th>\n",
       "      <td>27.750000</td>\n",
       "      <td>27.844999</td>\n",
       "      <td>152426800</td>\n",
       "      <td>28.559999</td>\n",
       "      <td>28.545000</td>\n",
       "      <td>26.322456</td>\n",
       "      <td>NaN</td>\n",
       "      <td>NaN</td>\n",
       "    </tr>\n",
       "    <tr>\n",
       "      <th>2015-11-17</th>\n",
       "      <td>28.330000</td>\n",
       "      <td>28.730000</td>\n",
       "      <td>110467600</td>\n",
       "      <td>28.762501</td>\n",
       "      <td>28.422501</td>\n",
       "      <td>26.209492</td>\n",
       "      <td>NaN</td>\n",
       "      <td>NaN</td>\n",
       "    </tr>\n",
       "  </tbody>\n",
       "</table>\n",
       "</div>"
      ],
      "text/plain": [
       "                  Low       Open     Volume       High      Close  \\\n",
       "Date                                                                \n",
       "2015-11-11  28.802500  29.092501  180872000  29.355000  29.027500   \n",
       "2015-11-12  28.912500  29.065001  130102400  29.205000  28.930000   \n",
       "2015-11-13  28.067499  28.799999  183249600  28.892500  28.084999   \n",
       "2015-11-16  27.750000  27.844999  152426800  28.559999  28.545000   \n",
       "2015-11-17  28.330000  28.730000  110467600  28.762501  28.422501   \n",
       "\n",
       "            Adjusted Close  MA50  MA200  \n",
       "Date                                     \n",
       "2015-11-11       26.767387   NaN    NaN  \n",
       "2015-11-12       26.677477   NaN    NaN  \n",
       "2015-11-13       25.898272   NaN    NaN  \n",
       "2015-11-16       26.322456   NaN    NaN  \n",
       "2015-11-17       26.209492   NaN    NaN  "
      ]
     },
     "execution_count": 108,
     "metadata": {},
     "output_type": "execute_result"
    }
   ],
   "source": [
    "stock = pd.read_csv('data/nasdaq/AAPL.csv', index_col=0)\n",
    "stock = stock[-1500:]\n",
    "stock.index = pd.to_datetime(stock.index, format=\"%d-%m-%Y\")\n",
    "stock['MA50'] = stock['Open'].rolling(50).mean()\n",
    "stock['MA200'] = stock['Open'].rolling(200).mean()\n",
    "stock.head()"
   ]
  },
  {
   "cell_type": "markdown",
   "metadata": {},
   "source": [
    "# Definition of the portfolio"
   ]
  },
  {
   "cell_type": "code",
   "execution_count": 109,
   "metadata": {},
   "outputs": [],
   "source": [
    "'''\n",
    "Class of a Portfolio, \n",
    "Contains its value and what stocks there is inside.\n",
    "value is a float\n",
    "content is a dictionary with the symbol as a key and value the number of action in the portfolio\n",
    "'''\n",
    "class Portfolio:\n",
    "    def __init__(self, value, content):\n",
    "        self.__value = value\n",
    "        self.__content = content\n",
    "        \n",
    "    def get_value(self):\n",
    "        return self.__value\n",
    "        \n",
    "    def buy(self, action, number, price):\n",
    "        print(\"BUY: \" + str(number) + \"\\/ \" + str(price))\n",
    "        self.__value -= price*number\n",
    "        self.__content[action] += number\n",
    "        \n",
    "    def sell(self, action, number, price):\n",
    "        print(\"SELL: \" + str(number) + \"\\/ \" + str(price))\n",
    "        self.__value += price*number\n",
    "        self.__content[action] -= number\n",
    "        \n",
    "    def close_position(self, price):\n",
    "        for i in self.__content.keys():\n",
    "            if self.__content[i] > 0:\n",
    "                self.sell(i, self.__content[i], price)\n",
    "            elif self.__content[i] < 0:\n",
    "                self.buy(i, -self.__content[i], price)\n",
    "                \n",
    "\n",
    "        "
   ]
  },
  {
   "cell_type": "code",
   "execution_count": 110,
   "metadata": {},
   "outputs": [],
   "source": [
    "def strategy(stock, old_info, portfolio, date):\n",
    "    if stock[\"MA50\"][date]-stock[\"MA200\"][date] > 0:\n",
    "        new_info = True\n",
    "    else:\n",
    "        new_info = False\n",
    "    \n",
    "    if old_info^new_info:\n",
    "        if not(new_info):\n",
    "            portfolio.sell(\"AAPL\", 10, stock[\"Open\"][date])\n",
    "        else: \n",
    "            portfolio.buy(\"AAPL\", 10, stock[\"Open\"][date])\n",
    "    return new_info, portfolio\n",
    "            "
   ]
  },
  {
   "cell_type": "code",
   "execution_count": 111,
   "metadata": {},
   "outputs": [],
   "source": [
    "def simulator(strategy, stocks):\n",
    "    portfolio = Portfolio(0, {\"AAPL\":0})\n",
    "    old_info = False\n",
    "    for date in stocks.index[-1300:]:\n",
    "        old_info, portfolio = strategy(stocks, old_info, portfolio, date)\n",
    "        \n",
    "    portfolio.close_position(stock[\"Open\"][date])\n",
    "    print(portfolio.get_value())"
   ]
  },
  {
   "cell_type": "code",
   "execution_count": 112,
   "metadata": {},
   "outputs": [
    {
     "name": "stdout",
     "output_type": "stream",
     "text": [
      "BUY: 10\\/ 26.975000381469727\n",
      "SELL: 10\\/ 39.21500015258789\n",
      "BUY: 10\\/ 50.47499847412109\n",
      "SELL: 10\\/ 149.3300018310547\n",
      "1110.9500312805176\n"
     ]
    }
   ],
   "source": [
    "simulator(strategy, stock)"
   ]
  }
 ],
 "metadata": {
  "interpreter": {
   "hash": "aee8b7b246df8f9039afb4144a1f6fd8d2ca17a180786b69acc140d282b71a49"
  },
  "kernelspec": {
   "display_name": "Python 3.10.1 64-bit",
   "language": "python",
   "name": "python3"
  },
  "language_info": {
   "codemirror_mode": {
    "name": "ipython",
    "version": 3
   },
   "file_extension": ".py",
   "mimetype": "text/x-python",
   "name": "python",
   "nbconvert_exporter": "python",
   "pygments_lexer": "ipython3",
   "version": "3.10.1"
  },
  "orig_nbformat": 4
 },
 "nbformat": 4,
 "nbformat_minor": 2
}
